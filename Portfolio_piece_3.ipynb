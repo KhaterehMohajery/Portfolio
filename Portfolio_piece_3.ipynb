{
 "cells": [
  {
   "cell_type": "markdown",
   "metadata": {},
   "source": [
    "\n",
    "# Portfolio Piece 3\n",
    "## Predicting Salaries for Data Scientist Jobs\n",
    "### Executive summary\n",
    "\n",
    "The aim of this report was to investigate what industry factors influence the salary of data scientist jobs in the market across USA. Due to natural variances in job salaries, instead of trying to predict the actual salary, predicting a range for salary i.e. above or below median could be a useful and insightful alternative.\n",
    "Information on data scientist jobs was collected from Indeed.com resulted in predicting senioroty and the location of a job (being in Chicago,San Jose, San Francisco Bay Area) to be the most important factors in contributing to classifying a job above or below median.\n",
    "\n",
    "### Introduction\n",
    "\n",
    "“Data Scientist” has been ranked the hottest job in the US market for the past few years and data scientist are in demand. It is really challenging for companies to find a data scientist with right skills to hire. Offering competitive salaries would result in higher  success rates in landing a good data scientist. Therefore, knowing what factors mainly influence the salary of a data scientist job is critical to be able to offer right and competitive salaries. \n",
    "\n",
    "### Methods\n",
    "\n",
    "The job-searching website of indeed.com was scraped in order to get information on available data scientist jobs in 18 cities across US. Among more than 10,000 job postings only a few hundred had the actual salaries posted on the website. Only these postings were considered in this study. It is expected that the location of a job, e.g. whether it is located in an expensive city such as New York or a city with lots of technological companies and high demand for data scientist, or skills and seniority required for a job affect the salary. Therefore, using the job location and keywords including “ senior”, “lead”, “engineer”, “director” and  VP” from the title of a job posting were used as factors in predicting whether a job has above median or below median salary. \n",
    "\n",
    "### Results\n",
    "Following figures show distribution of job postings in terms of location, key words in title and enclosed salary.\n",
    "![salary](images/indeed_hist.png)\n",
    "\n",
    "![location](images/indeed_locations.png)\n",
    "![word](images/indeed_word.png)\n",
    "Few models were used to classify the jobs into above median salary and below median salary (Logistic Regression, KNN, Random Forest). The best accuracy of 0.68 was achieved from these models. Higher precision of 0.83 can be achieved for above median categories using these models putting a higher 0.75 probability treshhold. \n",
    "Seniority along with a job being in Chicago, San Jose, San Francisco Bay Area have the highest effect in determining the category of salary as shown in the following figure.\n",
    "\n",
    "![feature](images/indeed_Feature.png)\n",
    "\n",
    "### Discussion / Interpretation of Results\n",
    "In the absence of any models, there was a 50% chance of correctly guessing whether a job has above median salary or below median salary. In this case, the accuracy of predicting the right category of salary for a job is 0.5. Implementing a model increased the accuracy by 0.18 meaning that in 68% of times you can determine whether a job is paying below median or above median correctly. \n",
    "\n",
    "Overestimating salaries could result in client dissatisfaction. Estimating a job as below median paying job and ending up with above average salary is less harmful than the opposite. So, it is important to avoid overestimating the salaries. Utilizing these models, one can predict whether a job is paying above median with 0.83 precision. \n",
    "\n",
    "However, one should keep in mind that there is a possibility that only companies offering jobs with higher salaries or goverment sector post their salary inforamation on indeed.com and this could result bias in our models.\n",
    "\n",
    "\n",
    "### Conclusion\n",
    "The models which were employed in this study, have improved the accuracy of predicting the ranges of salaries for data scientist jobs. \n",
    "\n",
    "### Recommendations\n",
    "The models can be improved by collecting more data on salaries from other sources such as glassdoor website. Also, using other factors such as skills and qualifications could help increasing the accuracy of the model.\n",
    "\n",
    "\n",
    "\n",
    "\n",
    "\n",
    "\n",
    "\n",
    "\n",
    "\n",
    "\n"
   ]
  }
 ],
 "metadata": {
  "anaconda-cloud": {},
  "kernelspec": {
   "display_name": "Python [conda root]",
   "language": "python",
   "name": "conda-root-py"
  },
  "language_info": {
   "codemirror_mode": {
    "name": "ipython",
    "version": 2
   },
   "file_extension": ".py",
   "mimetype": "text/x-python",
   "name": "python",
   "nbconvert_exporter": "python",
   "pygments_lexer": "ipython2",
   "version": "2.7.12"
  }
 },
 "nbformat": 4,
 "nbformat_minor": 1
}
