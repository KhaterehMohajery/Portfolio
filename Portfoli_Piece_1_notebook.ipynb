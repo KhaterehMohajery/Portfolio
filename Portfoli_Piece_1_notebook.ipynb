{
 "cells": [
  {
   "cell_type": "markdown",
   "metadata": {},
   "source": [
    "# Portfolio Piece 1\n",
    "\n",
    "## SAT scores and trends across US states in 2001\n",
    "\n",
    "I was working with a small data set of SAT scores and rates of participation across states in 2001 and found some interesting insights.\n",
    "\n",
    "The dataset contained four columns (variables) and 52 rows (observations) including 50 states, DC and an entry called All which assumed to be some kind of population weighted average of the scores and rates among all states.\n",
    "\n",
    "\n",
    "\n",
    "## Investigating the data.\n",
    "\n",
    "Using few pandas commands, \n",
    "``` python\n",
    "print(data.tail())\n",
    "print(data.head())\n",
    " State  Rate  Verbal  Math\n",
    "47    IA     5     593   603\n",
    "48    SD     4     577   582\n",
    "49    ND     4     592   599\n",
    "50    MS     4     566   551\n",
    "51   All    45     506   514\n",
    "  State  Rate  Verbal  Math\n",
    "0    CT    82     509   510\n",
    "1    NJ    81     499   513\n",
    "2    MA    79     511   515\n",
    "3    NY    77     495   505\n",
    "4    NH    72     520   516\n",
    "print(data.shape)\n",
    "(52, 4)\n",
    "\n",
    "print(data.describe())\n",
    "\n",
    "\tRate\tVerbal\tMath\n",
    "count\t52.000000\t52.000000\t52.000000\n",
    "mean\t37.153846\t532.019231\t531.500000\n",
    "std\t27.301788\t33.236225\t36.014975\n",
    "min\t4.000000\t482.000000\t439.000000\n",
    "25%\t9.000000\t501.000000\t504.000000\n",
    "50%\t33.500000\t526.500000\t521.000000\n",
    "75%\t63.500000\t562.000000\t555.750000\n",
    "max\t82.000000\t593.000000\n",
    "\n",
    "print(data.isnull().sum())\n",
    "\n",
    "State     0\n",
    "Rate      0\n",
    "Verbal    0\n",
    "Math      0\n",
    "dtype: int64\n",
    "\n",
    "```\n",
    "First, according to http://nces.ed.gov/programs/digest/d14/tables/dt14_226.40.asp?current=yes the Math score for Ohio State should be corrected from 439 to 539.\n",
    "\n",
    "The data has the inforamation on the verbal and math average scores along with the participation rate in the SAT exam in all 50 states plus District of Columbia in 2001. It also has the average of these values for the whole country as a row. The data has 52 rows and 4 column. No null entry and the max, min and averages are in correct ranges.\n",
    "\n",
    "## Data Visualization\n",
    "\n",
    "### The histograms of the columns\n",
    "![Ratefig](images/SAT_Ratehist.png)\n",
    "![Mathfig](images/SAT_Mathhist.png)\n",
    "![Verbalfig](images/SAT_Verbalhist.png)\n",
    "\n",
    "### The Matrix plot of the columns\n",
    "![Matrix](images/SAT_Matrix.png)\n",
    "\n",
    "\n",
    "\n",
    "### The box plots of math and verbal scores\n",
    "![fig1](images/SAT_fig1.png)\n",
    "\n",
    "\n",
    "### Tableau \n",
    "\n",
    "\n",
    "\n"
   ]
  },
  {
   "cell_type": "code",
   "execution_count": 1,
   "metadata": {
    "collapsed": false
   },
   "outputs": [
    {
     "data": {
      "text/html": [
       "\n",
       "<iframe width=\"100%\" height=\"750\" src=\"https://public.tableau.com/profile/khatereh.mohajery#!/vizhome/HeatmapofMathandVerbalscoresandRatingofSATinUSstates/Dashboard1\"></iframe>"
      ],
      "text/plain": [
       "<IPython.core.display.HTML object>"
      ]
     },
     "metadata": {},
     "output_type": "display_data"
    }
   ],
   "source": [
    "%%HTML\n",
    "\n",
    "<iframe width=\"100%\" height=\"750\" src=\"https://public.tableau.com/profile/khatereh.mohajery#!/vizhome/HeatmapofMathandVerbalscoresandRatingofSATinUSstates/Dashboard1\"></iframe>"
   ]
  },
  {
   "cell_type": "markdown",
   "metadata": {},
   "source": [
    "## Interesting insight\n",
    "\n",
    "It was expected to have normally distributed histograms for scores. However, above histograms are in bimodal shape suggesting that two distinct populations are present in the dataset. The inverse correlation of scores and participation rates also helped with understanding of what is going on. Separating the states based on whether the SAT test is mandatory or not, matched very well with high participation rates and low participation rates. This separation indicates that in states where the test is mandatory the participation rates are higher. However, since all students take the test the average scores are lower. In states where the test is not mandatory the participation rates are lower but because only high achiever and motivated students take the test to have the option to go to the best colleges anywhere in US, the scores are higher."
   ]
  }
 ],
 "metadata": {
  "anaconda-cloud": {},
  "kernelspec": {
   "display_name": "Python [default]",
   "language": "python",
   "name": "python2"
  },
  "language_info": {
   "codemirror_mode": {
    "name": "ipython",
    "version": 2
   },
   "file_extension": ".py",
   "mimetype": "text/x-python",
   "name": "python",
   "nbconvert_exporter": "python",
   "pygments_lexer": "ipython2",
   "version": "2.7.12"
  }
 },
 "nbformat": 4,
 "nbformat_minor": 0
}
