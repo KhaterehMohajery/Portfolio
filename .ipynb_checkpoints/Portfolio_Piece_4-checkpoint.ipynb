{
 "cells": [
  {
   "cell_type": "markdown",
   "metadata": {},
   "source": [
    "# Portfolio Piece 4\n",
    "\n",
    "## Predicting Terrorism / Bayesian Inference\n",
    "\n",
    "\n",
    "### Executive summary\n",
    "\n",
    "The aim of this project is to investigate some aspects of the Global Terrorism Database (GTD)  with focusing on middle east region and ‘Bombing/Explosion’ terror attacks. Using Bayesian approach, it was  concluded that the distributions for the number of attacks in “West Bank Gaza Strip” and “Lebanon” do not significantly differ during years of 2000-2015. \n",
    "In order to predict the number of bombing attacks in 1993 in Lebanon which is missing from the data, Bayesian Regression was employed. The linear regression between the year and number of bombing attacks resulted in prediction of 34 bombing attacks in 1993 in Lebanon which is very close to the average of bombing attacks in Lebanon between 1970-2015.\n",
    "\n",
    "### Introduction\n",
    "\n",
    "The Global Terrorism Database was put together and is maintained by National Consortium for the Study of Terrorism and Responses to Terrorism (START).\n",
    "More than 150,000 terrorist incidents are recorded around the world from 1970 to 2015.\n",
    "The code book that comes with the data base explains the variables and information accompanying each incident. 137 variables describe information about time, type, location, motive and the number of people involved in each incident among many others. Unfortunately, the data for the year of 1993 is lost. Some exploratory analyses were done which show the trends in terror attacks.\n",
    "![region](GTD_region.png)\n",
    "![killed](GTD_killed.png)\n",
    "![type](GTD_type.png)\n",
    "![trend](GTD_trend.png)\n",
    "### Methods\n",
    "\n",
    "The Bayesian approach was taken to investigate whether the number of terror attacks happened in Lebanon and West Bank during years 2000 - 2015 are significantly different from each other or they are following a same distribution. The prior distribution was chosen to have a gamma distribution. Uniform distribution was assumed for the mean and standard deviation of prior. The mean and standard deviation of the data from years 1970 to 2000 for these two countries  were set as the prior’s mean and standard deviation upper limit and zero as their  lower limits. \n",
    "\n",
    "In terms of predicting the bombing attacks in 1993 in Lebanon, it was assumed that the number of bombing attacks is linearly related to the year meaning: \n",
    "Number of bombing in Lebanon =B0 +B1 * (year-1970)\n",
    "Assuming uniform distribution for B0 (intercept) and Normal distribution for B1, the data from bombing attacks in Lebanon from 1970-2015 except for 1993 where the data was missing was used in the analysis. Poisson distribution was chosen as the prior distribution.\n",
    "### Results\n",
    "The results for the number of terror attacks in Lebanon and West Bank during years 2000-2015 showed they are not statistically different. Lebanon has an average of 57 attacks with standard deviation of 79. West Bank has the average of 77 attacks with standard deviation of 83. \n",
    "![mean_std](GTD_mean_std.png)\n",
    "![diff](GTD_diff.png)\n",
    "\n",
    "The bayesian model predicted 34 bombing attacks in Lebanon in 1993. This is  equal to taking average of bombing attacks for all years in 1970 to 2015.\n",
    "\n",
    "![prediction](GTD_prediction.png)\n",
    "\n",
    "\n",
    "### Discussion / Interpretation of Results\n",
    "The results for the bayesian comparison between the number of attacks in Lebanon and West Bank to be very similar which is not surprising. Having a gamma distribution resulted in a posterior distribution which is very close to the actual terror attacks distribution.\n",
    "\n",
    "For the prediction section of the study, the bayesian regression resulted in very small B1 indicating the year does not linearly correlated with the number of bombing attacks in Lebanon and the intercept value which is a constant value takes the value of the average of bombings during the timeframe.\n",
    "\n",
    "Changing the prior would probably result in different values for the predictors given that the number of data points are relatively small. However, using more accurate prior requires higher subject matter expertise.    \n",
    "\n",
    "### Conclusion\n",
    "The result of the prediction of bombing attacks in Lebanon in 1993 is basically the mean of the values of bombings in Lebanon between 1970-2015.\n",
    "\n",
    "\n"
   ]
  }
 ],
 "metadata": {
  "kernelspec": {
   "display_name": "Python [conda root]",
   "language": "python",
   "name": "conda-root-py"
  },
  "language_info": {
   "codemirror_mode": {
    "name": "ipython",
    "version": 2
   },
   "file_extension": ".py",
   "mimetype": "text/x-python",
   "name": "python",
   "nbconvert_exporter": "python",
   "pygments_lexer": "ipython2",
   "version": "2.7.12"
  }
 },
 "nbformat": 4,
 "nbformat_minor": 1
}
