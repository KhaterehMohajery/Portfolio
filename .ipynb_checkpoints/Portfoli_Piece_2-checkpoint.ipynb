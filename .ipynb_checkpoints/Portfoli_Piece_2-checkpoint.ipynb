{
 "cells": [
  {
   "cell_type": "markdown",
   "metadata": {},
   "source": [
    "# Portfolio Piece 2\n",
    "## Predicting the Presence of West Nile Virus in Traps, Chicago 2007-2014\n",
    "### Executive summary\n",
    "\n",
    "This was a group project to predict when and where different species of mosquitos will test positive for West Nile virus given weather, location, testing, and spraying data for traps placed in Chicago. Stacking the results of two best models of Gradient boosting and KNN gave the highest score of 0.77376 on the submitted test set showing the trap being the most important predicting feature. Also, weather conditions such as Dew Point turned out to be important features \n",
    "This ranked the model among top 20% of competitors on Kaggle competition board (#324).\n",
    "\n",
    "### Introduction\n",
    "\n",
    "West Nile virus is most commonly spread to humans through infected mosquitoes. \n",
    "Traps has been set by Chicago Department of Public Health (CDPH) across the city of Chicago to capture mosquitoes and they are then tested for the virus. The results of these tests influence when and where the city will spray airborne pesticides to control adult mosquito populations.\n",
    "Given weather, location, testing, and spraying data, this competition asks you to predict when and where different species of mosquitos will test positive for West Nile virus. This will help the City of Chicago to more effectively allocate resources towards preventing transmission of this potentially deadly virus.\n",
    "\n",
    "### Methods\n",
    "The spraying data was not provided for the test dataset and therefore could not be used as a predictor. Same as the type of mosquitoes found in traps in the test dataset.\n",
    "Training dataset included the location, dates, species, number of mosquitoes and the presence of virus for each trap for years of 2007, 2009, 2011 and 2013.\n",
    "The test dataset included above information for years 2008, 2010, 2012 and 2014 except for number of mosquitoes.\n",
    "The weather conditions were averaged over 30 days and along with trap locations, dates and number of mosquitoes in traps were used as predictors in several classifying models (random forest, KNN, logistic regression and gradient boosting). For each model, best parameters were chosen using grid search. Due to inbalance classes (having a lot more incidences of 0 with no presence of the virus compared to 1), AUC metric was used as the classifier score.\n",
    "\n",
    "### Results and Discussion \n",
    "Mapping the spray data showed that there are locations more prone to the virus and had been more frequently sprayed. Therefore, location of a trap is an important predictor. \n",
    "![map](images/kaggle_heatmap.png)\n",
    "Darker areas are the areas with higher probability for the presence of mosquitoes carrying West Nile virus. \n",
    "\n",
    "Also, the type of mosquitoes showed to be very influential in the presence of the virus and only traps having Culex Restuans, Culex Pipiens /Restuans and Culex Pipiens species had the west nile virus. Higher number of mosquitoes showed higher chance of having the virus present in a trap. \n",
    "![species](images/kaggle_species.png)\n",
    "\n",
    "The average number of mosquitoes in traps having mosquitoes carrying the virus was 26 compared to 12 for those that did not.  \n",
    "![NumMosquitos](images/kaggle_NumMosquitos.png)\n",
    "The probability of the presence of the virus for traps that contained each of these species was highest in traps with 40 as the total number of  mosquitoes in the trap except for  Culex Restuans. Traps having Culex Restuans has lower chance of having the virus. And therefore, having 40 mosquitoes in a trap resulted in highest probability of having the virus overall. \n",
    "\n",
    "![probability](images/kaggle_probability.png)\n",
    "It appeared that the weather conditions on the day the samples were collected from traps did not affect whether  the virus was present or not. Therefore, 30 day average of weather conditions were used instead.\n",
    "During week 30 to week 35 (late July to early August ) is the time with the highest number of virus carrying mosquitoes. \n",
    "![time](images/kaggle_time.png)\n",
    "\n",
    "Stacking the results of two best models of Gradient boosting and KNN gave the highest score of 0.95 on training set and 0.77376 on the submitted test set showing the trap being the most important predicting feature. Also, weather conditions such as Dew Point turned out to be important features.\n",
    "![ROC](images/Kaggle_ROC_AUC.png)\n",
    "![feature](images/kaggle_importance.png)\n",
    "\n",
    "### Conclusion\n",
    "The highest AUC value of 0.77376 achieved which resulted in rank of 324 on Kaggle competition board among top 20% of competitors.\n",
    "\n",
    "![rank](images/kaggle_rank.png)\n",
    "\n",
    "### Recommendations\n",
    "Although we focused on the previous 30 days before measurements, further research is needed to identify the most predictive timeframe.\n",
    "Total hatch size (as measured by trap counts) highly correlates with WNV detection; however, we failed to include this feature. \n",
    "\n"
   ]
  }
 ],
 "metadata": {
  "kernelspec": {
   "display_name": "Python [conda root]",
   "language": "python",
   "name": "conda-root-py"
  },
  "language_info": {
   "codemirror_mode": {
    "name": "ipython",
    "version": 2
   },
   "file_extension": ".py",
   "mimetype": "text/x-python",
   "name": "python",
   "nbconvert_exporter": "python",
   "pygments_lexer": "ipython2",
   "version": "2.7.12"
  }
 },
 "nbformat": 4,
 "nbformat_minor": 1
}
